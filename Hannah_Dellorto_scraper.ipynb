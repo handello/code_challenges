{
 "cells": [
  {
   "cell_type": "markdown",
   "metadata": {},
   "source": [
    "Hi there!\n",
    "\n",
    "Thank you for taking the time to look over my python scraper. To begin, the text file that is scraped is called fetch_challenge.txt in the project repo."
   ]
  },
  {
   "cell_type": "code",
   "execution_count": 1,
   "metadata": {},
   "outputs": [],
   "source": [
    "import re\n",
    "import string\n",
    "import json\n",
    "import matplotlib.pyplot as plt\n",
    "import pandas as pd"
   ]
  },
  {
   "cell_type": "code",
   "execution_count": 2,
   "metadata": {},
   "outputs": [],
   "source": [
    "# downloaded the given Frankenstein exercept as a txt file in UTF-8 encoding\n",
    "lines = []\n",
    "with open('fetch_challenge.txt') as f:\n",
    "    content = f.read()"
   ]
  },
  {
   "cell_type": "code",
   "execution_count": 3,
   "metadata": {},
   "outputs": [],
   "source": [
    "# lowercase all words\n",
    "content_low = content.lower()\n",
    "# separate words connected through hyphens\n",
    "content_sub = re.sub('—', ' ', content_low)\n",
    "# split content into single words\n",
    "content_split = content_sub.split()"
   ]
  },
  {
   "cell_type": "markdown",
   "metadata": {},
   "source": [
    "There are 4 sentences in this text, composed of words that are “hidden”\n",
    "(bookended by special characters). Find the sentences in the text."
   ]
  },
  {
   "cell_type": "code",
   "execution_count": 4,
   "metadata": {},
   "outputs": [],
   "source": [
    "# pattern is any characters between matching non alpha numeric characters\n",
    "pattern = r'(\\W)(.*)\\1'\n",
    "\n",
    "# find hidden words and add to list\n",
    "hidden_words = []\n",
    "for index, word in enumerate(content_split):\n",
    "    match = re.search(pattern, word)\n",
    "    if match != None:\n",
    "        found_word = match.string \n",
    "        hidden_words.append(found_word)\n",
    "        # transform hidden word into '' in case it is connected to a valid word\n",
    "        content_split[index] = found_word.replace(match.group(),'')"
   ]
  },
  {
   "cell_type": "markdown",
   "metadata": {},
   "source": [
    "Remove the 4 hidden sentences from the original text file and save a clean\n",
    "version of the first chapter of Frankenstein to a text file (call it 'Clean_Frankenstein.txt')"
   ]
  },
  {
   "cell_type": "code",
   "execution_count": 5,
   "metadata": {},
   "outputs": [],
   "source": [
    "# strip punctuation of chapter after finding hidden words\n",
    "for i in range(len(content_split)):\n",
    "    content_split[i] = content_split[i].translate(str.maketrans('', '', string.punctuation))\n",
    "\n",
    "# drop elements that are only '' from transformed hidden words or punctuation\n",
    "filter_object = filter(lambda x: x != \"\", content_split)\n",
    "content_clean = list(filter_object)\n",
    "\n",
    "# join word elements into clean txt\n",
    "delimiter = ' '\n",
    "clean_txt = delimiter.join(content_clean)\n",
    "\n",
    "with open('Clean_Frankenstein.txt', 'w') as output:\n",
    "    output.write(clean_txt)"
   ]
  },
  {
   "cell_type": "markdown",
   "metadata": {},
   "source": [
    "Save the 4 hidden sentences together as a list of lists, then join them and print them with a for loop"
   ]
  },
  {
   "cell_type": "code",
   "execution_count": 6,
   "metadata": {},
   "outputs": [
    {
     "name": "stdout",
     "output_type": "stream",
     "text": [
      "you are amazing\n",
      "found another one\n",
      "waltonwin\n",
      "scrapers for the\n",
      "youre killin it\n"
     ]
    }
   ],
   "source": [
    "# find the first special character in each word \n",
    "characters = [hidden_words[i][0] for i in range(len(hidden_words))]\n",
    "\n",
    "# find the unique characters\n",
    "uni_char = list(set(characters))\n",
    "\n",
    "# create list of lists for the 4 hidden sentences\n",
    "sentences = [[] for i in range(len(uni_char))]\n",
    "\n",
    "# place words into correct sentences/list by checking their first special character\n",
    "for j in range(len(uni_char)):\n",
    "    for i in range(len(hidden_words)):\n",
    "        if hidden_words[i][0] == uni_char[j]:\n",
    "            sentences[j].append(hidden_words[i])\n",
    "            \n",
    "# strip punctuation from hidden sentences\n",
    "for i in range(len(sentences)):\n",
    "    sentences[i] = [sentences[i][j].translate(str.maketrans('', '', string.punctuation)) \n",
    "                    for j in range(len(sentences[i]))]\n",
    "    \n",
    "# join sentences\n",
    "delimiter = ' '\n",
    "all_sentences = [delimiter.join(sentences[i]) for i in range(len(sentences))]\n",
    "\n",
    "# print with for loop\n",
    "for sentence in all_sentences:\n",
    "    print(sentence)"
   ]
  },
  {
   "cell_type": "markdown",
   "metadata": {},
   "source": [
    "Store all distinct words in the text in a dictionary and keep track of the word\n",
    "counts (make sure to strip all punctuation and lower the case of the words)"
   ]
  },
  {
   "cell_type": "code",
   "execution_count": 7,
   "metadata": {},
   "outputs": [],
   "source": [
    "distinct = dict()\n",
    "for word in content_clean:\n",
    "    if word not in distinct:\n",
    "        distinct[word] = 1\n",
    "    else:\n",
    "        distinct[word] += 1"
   ]
  },
  {
   "cell_type": "markdown",
   "metadata": {},
   "source": [
    "Save the distinct word dictionary as a JSON file (call it 'word_count_dict.json')"
   ]
  },
  {
   "cell_type": "code",
   "execution_count": 8,
   "metadata": {},
   "outputs": [],
   "source": [
    "with open('word_count_dict.json', 'w') as fp:\n",
    "    json.dump(distinct, fp, sort_keys=True, indent=4)"
   ]
  },
  {
   "cell_type": "markdown",
   "metadata": {},
   "source": [
    "Plot a histogram of the count of words by word length for all words in the\n",
    "document"
   ]
  },
  {
   "cell_type": "code",
   "execution_count": 9,
   "metadata": {},
   "outputs": [
    {
     "data": {
      "image/png": "[encoded data removed]",
      "text/plain": [
       "<Figure size 432x288 with 1 Axes>"
      ]
     },
     "metadata": {
      "needs_background": "light"
     },
     "output_type": "display_data"
    }
   ],
   "source": [
    "# sort the dictionary of distinct words and their count by the word's length\n",
    "distinct_sorted = sorted(distinct.items(), key = lambda x: len(x[0]))\n",
    "\n",
    "# put sorted word tuples into dataframe to plot\n",
    "data = pd.DataFrame(distinct_sorted, columns = [\"word\",\"count\"])\n",
    "\n",
    "# plot\n",
    "plt.bar(data['word'],data['count'], color='g')\n",
    "plt.tick_params(\n",
    "    axis='x',         \n",
    "    which='both',     \n",
    "    bottom=False,     \n",
    "    top=False,        \n",
    "    labelbottom=False)\n",
    "plt.xlabel('Word: Short to Long')\n",
    "plt.ylabel('Count')\n",
    "plt.title('Count of Words by Word Length')\n",
    "plt.show()"
   ]
  }
 ],
 "metadata": {
  "kernelspec": {
   "display_name": "Python 3",
   "language": "python",
   "name": "python3"
  },
  "language_info": {
   "codemirror_mode": {
    "name": "ipython",
    "version": 3
   },
   "file_extension": ".py",
   "mimetype": "text/x-python",
   "name": "python",
   "nbconvert_exporter": "python",
   "pygments_lexer": "ipython3",
   "version": "3.7.1"
  }
 },
 "nbformat": 4,
 "nbformat_minor": 2
}
